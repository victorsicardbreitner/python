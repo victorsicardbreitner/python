{
 "cells": [
  {
   "cell_type": "code",
   "execution_count": 1,
   "metadata": {},
   "outputs": [
    {
     "name": "stdout",
     "output_type": "stream",
     "text": [
      "3B6.A96 Ms (+ 583 s)\n"
     ]
    }
   ],
   "source": [
    "import time\n",
    "from datetime import datetime\n",
    "import calendar\n",
    "now = datetime.now()\n",
    "numbernow=calendar.timegm(now.timetuple())\n",
    "\n",
    "import numpy as np\n",
    "\n",
    "date=np.base_repr(numbernow,12)\n",
    "affdate=date[0:3]+'.'+date[3:6]+' Ms'+' (+ '+date[6:]+' s)'\n",
    "\n",
    "print(affdate)\n",
    "\n",
    "n=int('11A2',12)\n",
    "s=np.base_repr(1994,12)"
   ]
  }
 ],
 "metadata": {
  "kernelspec": {
   "display_name": "Python 3",
   "language": "python",
   "name": "python3"
  },
  "language_info": {
   "codemirror_mode": {
    "name": "ipython",
    "version": 3
   },
   "file_extension": ".py",
   "mimetype": "text/x-python",
   "name": "python",
   "nbconvert_exporter": "python",
   "pygments_lexer": "ipython3",
   "version": "3.10.13"
  }
 },
 "nbformat": 4,
 "nbformat_minor": 2
}
