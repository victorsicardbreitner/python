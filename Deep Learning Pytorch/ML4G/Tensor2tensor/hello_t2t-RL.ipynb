{
 "cells": [
  {
   "cell_type": "code",
   "execution_count": null,
   "metadata": {},
   "outputs": [],
   "source": [
    "# Helper function for playing videos in the colab.\n",
    "def play_video(path):\n",
    "  from IPython.core.magics.display import HTML\n",
    "  display_path = \"/nbextensions/vid.mp4\"\n",
    "  display_abs_path = \"/usr/local/share/jupyter\" + display_path\n",
    "  !rm -f \n",
    "path $display_abs_path\n",
    "  return HTML(\"\"\"\n",
    "    \n",
    "  \"\"\".format(display_path))\n",
    "\n",
    "# experiment_id is an integer from [0, 4].\n",
    "def get_run_dir(game, experiment_id):\n",
    "  from tensor2tensor.data_generators.gym_env import ATARI_GAMES_WITH_HUMAN_SCORE_NICE\n",
    "  EXPERIMENTS_PER_GAME = 5\n",
    "  run_id = ATARI_GAMES_WITH_HUMAN_SCORE_NICE.index(game) * EXPERIMENTS_PER_GAME + experiment_id + 1\n",
    "  return \"gs://tensor2tensor-checkpoints/modelrl_experiments/train_sd/{}\".format(run_id)\n",
    "\n",
    "get_run_dir('pong', 2)\n",
    "\n",
    "game = 'pong'\n",
    "run_dir = get_run_dir(game, 1)\n",
    "!python -m tensor2tensor.rl.evaluator \\\n",
    "  --loop_hparams_set=rlmb_long_stochastic_discrete \\\n",
    "  --loop_hparams=game=$game,eval_max_num_noops=8,eval_sampling_temps=[0.5] \\\n",
    "  --policy_dir=$run_dir/policy \\\n",
    "  --eval_metrics_dir=pong_pretrained \\\n",
    "  --debug_video_path=pong_pretrained \\\n",
    "  --num_debug_videos=4"
   ]
  }
 ],
 "metadata": {
  "language_info": {
   "name": "python"
  }
 },
 "nbformat": 4,
 "nbformat_minor": 2
}
